{
  "nbformat": 4,
  "nbformat_minor": 0,
  "metadata": {
    "colab": {
      "provenance": []
    },
    "kernelspec": {
      "name": "python3",
      "display_name": "Python 3"
    },
    "language_info": {
      "name": "python"
    }
  },
  "cells": [
    {
      "cell_type": "markdown",
      "source": [],
      "metadata": {
        "id": "qp3p2rPmq6PM"
      }
    },
    {
      "cell_type": "markdown",
      "source": [
        "# **Lab-Task#01 (Solution)**\n",
        "\n",
        "## **Student Details:**\n",
        "* **Name:** Muhammad Bilal\n",
        "* **Reg. no:** 2022359\n",
        "* **Faculty:** CYS\n",
        "\n",
        "# **Game Idea: Number Guessing Game**\n",
        "\n",
        "*   **Objective:** The player has to guess a randomly chosen number between 1 and 100.\n",
        "\n",
        "*   **BFS Version:** Implement the Number Guessing Game where the AI uses\n",
        "Breadth-First Search (BFS) to guess the number\n",
        "\n",
        "*   **DFS Version:** Implement the Number Guessing Game where the AI uses DepthFirst Search (DFS) to guess the number.\n",
        "\n",
        "*   **Own Algorithm:** Implement the Number Guessing Game using an\n",
        "algorithm of your choice. You can choose from algorithms like Simulated\n",
        "Annealing, Genetic Algorithm, or any other search strategy. Explain your choice\n",
        "in the code comments.\n"
      ],
      "metadata": {
        "id": "5nEZH4L0VnH7"
      }
    },
    {
      "cell_type": "markdown",
      "source": [],
      "metadata": {
        "id": "oyyMZ_NpqitJ"
      }
    },
    {
      "cell_type": "markdown",
      "source": [
        "---\n",
        "## **1. BFS Version:**  \n",
        "\n",
        "### **Game Description:**\n",
        "In the BFS version, the player selects a number, and the AI (computer) will try to guess it using Breadth-First Search (BFS). The AI starts by guessing numbers from a shuffled range and explores them level by level. Each guess is followed by feedback from the player (too high/too low). The AI adjusts its pool of possible numbers by removing values that are no longer valid, continuing to guess from left to right until the correct number is found.\n",
        "\n",
        "\n",
        "### **Code for the BFS Version:**\n",
        "---"
      ],
      "metadata": {
        "id": "BmWl-PbHviRW"
      }
    },
    {
      "cell_type": "code",
      "execution_count": 3,
      "metadata": {
        "colab": {
          "base_uri": "https://localhost:8080/"
        },
        "id": "WOw3yoa6A5lx",
        "outputId": "be90a19f-d657-46aa-d18e-f8b0c9594f8e"
      },
      "outputs": [
        {
          "output_type": "stream",
          "name": "stdout",
          "text": [
            "Think of a number between 1 and 100, and I (the AI) will try to guess it.\n",
            "AI's guess is: 28\n",
            "Enter 'h' if too high, 'l' if too low, or 'c' if correct: l\n",
            "AI's guess is: 79\n",
            "Enter 'h' if too high, 'l' if too low, or 'c' if correct: h\n",
            "AI's guess is: 64\n",
            "Enter 'h' if too high, 'l' if too low, or 'c' if correct: h\n",
            "AI's guess is: 61\n",
            "Enter 'h' if too high, 'l' if too low, or 'c' if correct: h\n",
            "AI's guess is: 50\n",
            "Enter 'h' if too high, 'l' if too low, or 'c' if correct: c\n",
            "I (AI) guessed the number in 5 attempts using BFS!\n"
          ]
        }
      ],
      "source": [
        "from collections import deque\n",
        "import random\n",
        "\n",
        "def bfs_number_guessing_game():\n",
        "    print(\"Think of a number between 1 and 100, and I (the AI) will try to guess it.\")\n",
        "\n",
        "    low, high = 1, 100\n",
        "    attempts = 0\n",
        "\n",
        "    # Create a list of possible numbers and shuffle it\n",
        "    possible_numbers = list(range(low, high + 1))\n",
        "    random.shuffle(possible_numbers)\n",
        "\n",
        "    # Initialize the queue with shuffled numbers\n",
        "    queue = deque(possible_numbers)\n",
        "\n",
        "    while queue:\n",
        "        guess = queue.popleft()  # BFS: Explore the numbers from left to right\n",
        "        attempts += 1\n",
        "\n",
        "        print(f\"AI's guess is: {guess}\")\n",
        "        feedback = input(\"Enter 'h' if too high, 'l' if too low, or 'c' if correct: \").lower()\n",
        "\n",
        "        if feedback == 'c':\n",
        "            print(f\"I (AI) guessed the number in {attempts} attempts using BFS!\")\n",
        "            return\n",
        "        elif feedback == 'h':\n",
        "            # Remove guesses that are too high\n",
        "            queue = deque([x for x in queue if x < guess])\n",
        "        elif feedback == 'l':\n",
        "            # Remove guesses that are too low\n",
        "            queue = deque([x for x in queue if x > guess])\n",
        "\n",
        "    print(\"Something went wrong!\")\n",
        "\n",
        "# Run the BFS version\n",
        "bfs_number_guessing_game()\n"
      ]
    },
    {
      "cell_type": "markdown",
      "source": [
        "---\n",
        "## **2. DFS Version:**  \n",
        "\n",
        "### **Game Description:**\n",
        "In the DFS version, the player selects a number, and the AI (computer) will attempt to guess it using Depth-First Search (DFS). The AI makes an initial random guess and then continues to explore possible numbers in a depth-first manner. Based on feedback from the player (too high/too low), it adjusts its guesses, diving deeper into one branch before backtracking and trying others. The AI systematically narrows down the possibilities until the correct number is guessed.\n",
        "\n",
        "### **Code for the DFS Version:**\n",
        "---"
      ],
      "metadata": {
        "id": "2vKRrJWAvkNG"
      }
    },
    {
      "cell_type": "code",
      "source": [
        "import random\n",
        "\n",
        "def dfs_number_guessing_game():\n",
        "    print(\"Think of a number between 1 and 100, and I (the AI) will try to guess it.\")\n",
        "\n",
        "    low, high = 1, 100\n",
        "    attempts = 0\n",
        "\n",
        "    # Create a list of possible numbers and shuffle it\n",
        "    possible_numbers = list(range(low, high + 1))\n",
        "    random.shuffle(possible_numbers)\n",
        "\n",
        "    # Initialize the stack with shuffled numbers\n",
        "    stack = possible_numbers\n",
        "\n",
        "    while stack:\n",
        "        guess = stack.pop()  # DFS: Explore the last number in the stack (deepest)\n",
        "        attempts += 1\n",
        "\n",
        "        print(f\"AI's guess is: {guess}\")\n",
        "        feedback = input(\"Enter 'h' if too high, 'l' if too low, or 'c' if correct: \").lower()\n",
        "\n",
        "        if feedback == 'c':\n",
        "            print(f\"I (AI) guessed the number in {attempts} attempts using DFS!\")\n",
        "            return\n",
        "        elif feedback == 'h':\n",
        "            # Remove guesses that are too high\n",
        "            stack = [x for x in stack if x < guess]\n",
        "        elif feedback == 'l':\n",
        "            # Remove guesses that are too low\n",
        "            stack = [x for x in stack if x > guess]\n",
        "\n",
        "    print(\"Something went wrong!\")\n",
        "\n",
        "# Run the DFS version\n",
        "dfs_number_guessing_game()"
      ],
      "metadata": {
        "colab": {
          "base_uri": "https://localhost:8080/"
        },
        "id": "65iJB6nAvoM8",
        "outputId": "a7da2fe5-c6f8-48e4-b42f-ffc5ce184a25"
      },
      "execution_count": 5,
      "outputs": [
        {
          "output_type": "stream",
          "name": "stdout",
          "text": [
            "Think of a number between 1 and 100, and I (the AI) will try to guess it.\n",
            "AI's guess is: 33\n",
            "Enter 'h' if too high, 'l' if too low, or 'c' if correct: l\n",
            "AI's guess is: 55\n",
            "Enter 'h' if too high, 'l' if too low, or 'c' if correct: h\n",
            "AI's guess is: 47\n",
            "Enter 'h' if too high, 'l' if too low, or 'c' if correct: l\n",
            "AI's guess is: 49\n",
            "Enter 'h' if too high, 'l' if too low, or 'c' if correct: l\n",
            "AI's guess is: 51\n",
            "Enter 'h' if too high, 'l' if too low, or 'c' if correct: h\n",
            "AI's guess is: 50\n",
            "Enter 'h' if too high, 'l' if too low, or 'c' if correct: c\n",
            "I (AI) guessed the number in 6 attempts using DFS!\n"
          ]
        }
      ]
    },
    {
      "cell_type": "markdown",
      "source": [
        "---\n",
        "## **3. Ternary Search Version:**  \n",
        "\n",
        "### **Game Description:**\n",
        "In the Ternary Search version, the AI splits the range of possible numbers into three equal parts for each guess instead of two (as in binary search). After each guess, the feedback (too high, too low) determines which one-third of the range to continue searching in. This ensures a balanced reduction of the search space, minimizing the number of guesses.\n",
        "\n",
        "\n",
        "### **Code for the Ternary Version:**\n",
        "---"
      ],
      "metadata": {
        "id": "7ItMVLXuz4oK"
      }
    },
    {
      "cell_type": "code",
      "source": [
        "def ternary_search_number_guessing_game():\n",
        "    print(\"Think of a number between 1 and 100, and I (the AI) will try to guess it.\")\n",
        "\n",
        "    low, high = 1, 100\n",
        "    attempts = 0\n",
        "\n",
        "    # Loop until the AI guesses the number correctly\n",
        "    while low <= high:\n",
        "        # Divide the range into three parts\n",
        "        mid1 = low + (high - low) // 3\n",
        "        mid2 = high - (high - low) // 3\n",
        "        attempts += 1\n",
        "\n",
        "        # Make a guess in the first third\n",
        "        print(f\"AI's guess is: {mid1}\")\n",
        "        feedback = input(\"Enter 'h' if too high, 'l' if too low, or 'c' if correct: \").lower()\n",
        "\n",
        "        if feedback == 'c':\n",
        "            print(f\"I (AI) guessed the number in {attempts} attempts using Ternary Search!\")\n",
        "            return\n",
        "        elif feedback == 'h':\n",
        "            high = mid1 - 1  # Narrow down the range to the lower third\n",
        "        elif feedback == 'l':\n",
        "            # Make a guess in the second third if the first is too low\n",
        "            print(f\"AI's guess is: {mid2}\")\n",
        "            attempts += 1\n",
        "            feedback = input(\"Enter 'h' if too high, 'l' if too low, or 'c' if correct: \").lower()\n",
        "\n",
        "            if feedback == 'c':\n",
        "                print(f\"I (AI) guessed the number in {attempts} attempts using Ternary Search!\")\n",
        "                return\n",
        "            elif feedback == 'h':\n",
        "                high = mid2 - 1  # Narrow down to the middle third\n",
        "            elif feedback == 'l':\n",
        "                low = mid2 + 1  # Narrow down to the upper third\n",
        "\n",
        "    print(\"Something went wrong!\")\n",
        "\n",
        "# Run the Ternary Search version\n",
        "ternary_search_number_guessing_game()\n"
      ],
      "metadata": {
        "colab": {
          "base_uri": "https://localhost:8080/"
        },
        "id": "SvsD2GZsyM2D",
        "outputId": "3df5bea2-ad31-4264-cf40-1d5d41e406e6"
      },
      "execution_count": 7,
      "outputs": [
        {
          "output_type": "stream",
          "name": "stdout",
          "text": [
            "Think of a number between 1 and 100, and I (the AI) will try to guess it.\n",
            "AI's guess is: 34\n",
            "Enter 'h' if too high, 'l' if too low, or 'c' if correct: h\n",
            "AI's guess is: 11\n",
            "Enter 'h' if too high, 'l' if too low, or 'c' if correct: l\n",
            "AI's guess is: 23\n",
            "Enter 'h' if too high, 'l' if too low, or 'c' if correct: h\n",
            "AI's guess is: 8\n",
            "Enter 'h' if too high, 'l' if too low, or 'c' if correct: l\n",
            "AI's guess is: 15\n",
            "Enter 'h' if too high, 'l' if too low, or 'c' if correct: l\n",
            "AI's guess is: 18\n",
            "Enter 'h' if too high, 'l' if too low, or 'c' if correct: l\n",
            "AI's guess is: 20\n",
            "Enter 'h' if too high, 'l' if too low, or 'c' if correct: l\n",
            "AI's guess is: 21\n",
            "Enter 'h' if too high, 'l' if too low, or 'c' if correct: l\n",
            "AI's guess is: 22\n",
            "Enter 'h' if too high, 'l' if too low, or 'c' if correct: c\n",
            "I (AI) guessed the number in 9 attempts using Ternary Search!\n"
          ]
        }
      ]
    }
  ]
}